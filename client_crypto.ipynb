{
 "cells": [
  {
   "cell_type": "code",
   "execution_count": 1,
   "id": "50b51d7e",
   "metadata": {},
   "outputs": [
    {
     "name": "stderr",
     "output_type": "stream",
     "text": [
      "22/02/20 10:27:10 WARN Utils: Your hostname, kini-G3-3579 resolves to a loopback address: 127.0.1.1; using 192.168.0.100 instead (on interface wlo1)\n",
      "22/02/20 10:27:10 WARN Utils: Set SPARK_LOCAL_IP if you need to bind to another address\n",
      "WARNING: An illegal reflective access operation has occurred\n",
      "WARNING: Illegal reflective access by org.apache.spark.unsafe.Platform (file:/opt/spark/jars/spark-unsafe_2.12-3.2.0.jar) to constructor java.nio.DirectByteBuffer(long,int)\n",
      "WARNING: Please consider reporting this to the maintainers of org.apache.spark.unsafe.Platform\n",
      "WARNING: Use --illegal-access=warn to enable warnings of further illegal reflective access operations\n",
      "WARNING: All illegal access operations will be denied in a future release\n",
      "22/02/20 10:27:10 WARN NativeCodeLoader: Unable to load native-hadoop library for your platform... using builtin-java classes where applicable\n",
      "Using Spark's default log4j profile: org/apache/spark/log4j-defaults.properties\n",
      "Setting default log level to \"WARN\".\n",
      "To adjust logging level use sc.setLogLevel(newLevel). For SparkR, use setLogLevel(newLevel).\n",
      "/opt/spark/python/pyspark/sql/context.py:77: FutureWarning: Deprecated in 3.0.0. Use SparkSession.builder.getOrCreate() instead.\n",
      "  warnings.warn(\n"
     ]
    }
   ],
   "source": [
    "import findspark\n",
    "findspark.init()     \n",
    "\n",
    "import pyspark\n",
    "from pyspark.sql import SparkSession\n",
    "from pyspark import SparkConf\n",
    "from pyspark import SparkContext, SQLContext\n",
    "from pyspark.streaming import StreamingContext\n",
    "from pyspark.sql.types import * \n",
    "from pyspark.sql.functions import *\n",
    "import socket\n",
    "import json\n",
    "\n",
    "\n",
    "\n",
    "spark = SparkSession \\\n",
    "    .builder \\\n",
    "    .config(\"spark.jars\", \"/home/kini/Downloads/postgresql-42.3.3.jar\") \\\n",
    "    .master(\"local[2]\") \\\n",
    "    .appName(\"app_hack\") \\\n",
    "    .enableHiveSupport() \\\n",
    "    .getOrCreate()\n",
    "\n",
    "\n",
    "sqlContext = SQLContext(spark.sparkContext)   \n",
    "ssc = StreamingContext(spark.sparkContext,30)\n",
    "lines = ssc.socketTextStream('localhost', 9002)\n",
    "\n",
    "def saveRDD(rdd):\n",
    "                             \n",
    "    if not rdd.isEmpty():\n",
    "        \n",
    "        validJsonRdd = rdd.map(lambda x : x.replace(\",1],\", \",\").replace(\"}]\", \"}\"))\n",
    "        df = sqlContext.read.json(validJsonRdd)\n",
    "        df = df.withColumn(\"current_timestamp\", current_timestamp())\n",
    "        \n",
    "        \n",
    "        user_postgres = \"postgres\"\n",
    "        password_postgres = \n",
    "        \n",
    "        df.write \\\n",
    "        .mode(\"append\") \\\n",
    "        .format(\"jdbc\") \\\n",
    "        .option(\"url\", \"jdbc:postgresql://172.20.0.2:5432/db_accident\") \\\n",
    "        .option(\"dbtable\", \"Currency\") \\\n",
    "        .option(\"user\", user_postgres) \\\n",
    "        .option(\"password\", password_postgres) \\\n",
    "        .option(\"driver\", \"org.postgresql.Driver\") \\\n",
    "        .save()\n",
    "        \n",
    "        \n",
    "        df.write.option(\"header\",True) \\\n",
    "        .partitionBy(\"current_timestamp\") \\\n",
    "        .mode(\"overwrite\") \\\n",
    "        .csv(\"/Cur_csv\")\n",
    "    \n",
    "\n",
    "lines.foreachRDD(lambda rdd : saveRDD(rdd))\n",
    "\n",
    "\n",
    "ssc.start()\n",
    "#ssc.awaitTermination()"
   ]
  }
 ],
 "metadata": {
  "kernelspec": {
   "display_name": "Python 3 (ipykernel)",
   "language": "python",
   "name": "python3"
  },
  "language_info": {
   "codemirror_mode": {
    "name": "ipython",
    "version": 3
   },
   "file_extension": ".py",
   "mimetype": "text/x-python",
   "name": "python",
   "nbconvert_exporter": "python",
   "pygments_lexer": "ipython3",
   "version": "3.8.10"
  }
 },
 "nbformat": 4,
 "nbformat_minor": 5
}
